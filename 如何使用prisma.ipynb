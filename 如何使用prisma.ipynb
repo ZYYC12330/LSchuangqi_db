{
 "cells": [
  {
   "cell_type": "code",
   "execution_count": null,
   "id": "07b57fcb",
   "metadata": {
    "vscode": {
     "languageId": "shellscript"
    }
   },
   "outputs": [],
   "source": [
    "python -m prisma generate\n",
    "python -m prisma migrate dev"
   ]
  },
  {
   "cell_type": "markdown",
   "id": "fe73fa45",
   "metadata": {},
   "source": [
    "强制使用 UTF-8 编码"
   ]
  },
  {
   "cell_type": "code",
   "execution_count": null,
   "id": "3e440f80",
   "metadata": {
    "vscode": {
     "languageId": "shellscript"
    }
   },
   "outputs": [],
   "source": [
    "$env:PYTHONIOENCODING=\"utf-8\"\n",
    "python -m prisma generate"
   ]
  }
 ],
 "metadata": {
  "kernelspec": {
   "display_name": "lscq",
   "language": "python",
   "name": "python3"
  },
  "language_info": {
   "name": "python",
   "version": "3.13.4"
  }
 },
 "nbformat": 4,
 "nbformat_minor": 5
}
