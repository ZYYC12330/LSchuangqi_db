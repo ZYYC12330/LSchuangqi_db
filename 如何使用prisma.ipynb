{
 "cells": [
  {
   "cell_type": "code",
   "execution_count": null,
   "id": "07b57fcb",
   "metadata": {
    "vscode": {
     "languageId": "shellscript"
    }
   },
   "outputs": [],
   "source": [
    "python -m prisma generate\n",
    "python -m prisma migrate dev"
   ]
  }
 ],
 "metadata": {
  "kernelspec": {
   "display_name": "lscq",
   "language": "python",
   "name": "python3"
  },
  "language_info": {
   "name": "python",
   "version": "3.13.4"
  }
 },
 "nbformat": 4,
 "nbformat_minor": 5
}
